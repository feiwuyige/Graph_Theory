{
 "cells": [
  {
   "cell_type": "code",
   "execution_count": 1,
   "id": "876b5d94",
   "metadata": {},
   "outputs": [],
   "source": [
    "# 实现Dijkstra算法来寻找图中的最短路径\n",
    "import numpy as np\n",
    "\n",
    "\n",
    "# 输入一个图的邻接矩阵,求node这个节点距离其他节点的最短路径\n",
    "def Dijkstra(adjacency_matrix, node):\n",
    "    \n",
    "    length = len(adjacency_matrix[0])\n",
    "    \n",
    "    # 存放最短路径\n",
    "    result = np.zeros(length)\n",
    "    for i in range(length):\n",
    "        result[i] = adjacency_matrix[node][i]\n",
    "    \n",
    "    # 存放未访问的节点，0表示还未找到最短路，1表示已经找到最短路\n",
    "    visit = np.zeros(length)\n",
    "    visit[node] = 1       \n",
    "    \n",
    "    # 开始 Dijkstra 算法，此时还有 length-1 个节点未访问\n",
    "    for i in range(length - 1):\n",
    "        \n",
    "        # 最长距离\n",
    "        minval = 10000\n",
    "        minindex = -1\n",
    "        for j in range(length):\n",
    "            if visit[j] == 0 and result[j] < minval:\n",
    "                minval = result[j]\n",
    "                minindex = j\n",
    "        # 打上标记\n",
    "        visit[minindex] = 1 \n",
    "        \n",
    "        # 当有新节点加入的时候，需要更新最短路径\n",
    "        for j in range(length):\n",
    "            if visit[j] == 0:\n",
    "                result[j] = min(result[j], minval + adjacency_matrix[minindex][j])\n",
    "                    \n",
    "    return result"
   ]
  },
  {
   "cell_type": "code",
   "execution_count": 3,
   "id": "e45a5c02",
   "metadata": {},
   "outputs": [
    {
     "data": {
      "text/plain": [
       "array([ 0.,  2.,  7.,  1.,  3.,  6.,  9., 11.])"
      ]
     },
     "execution_count": 3,
     "metadata": {},
     "output_type": "execute_result"
    }
   ],
   "source": [
    "matrix = np.array(\n",
    "    [\n",
    "        [0, 2, 8, 1, 10000, 10000, 10000, 10000],\n",
    "        [2, 0, 6, 10000, 1, 10000, 10000, 10000],\n",
    "        [8, 6, 0, 7, 4, 2, 2, 10000],\n",
    "        [1, 10000, 7, 0, 10000, 10000, 9, 10000],\n",
    "        [10000, 1, 4, 10000, 0, 3, 10000, 9],\n",
    "        [10000, 10000, 2, 10000, 3, 0, 4, 6],\n",
    "        [10000, 10000, 2, 9, 10000, 4, 0, 2],\n",
    "        [10000, 10000, 10000, 10000, 9, 6, 2, 0]\n",
    "    ]\n",
    ")\n",
    "mindistance = Dijkstra(matrix, 0)\n",
    "mindistance"
   ]
  },
  {
   "cell_type": "code",
   "execution_count": null,
   "id": "c8b599f8",
   "metadata": {},
   "outputs": [],
   "source": []
  }
 ],
 "metadata": {
  "kernelspec": {
   "display_name": "Python 3 (ipykernel)",
   "language": "python",
   "name": "python3"
  },
  "language_info": {
   "codemirror_mode": {
    "name": "ipython",
    "version": 3
   },
   "file_extension": ".py",
   "mimetype": "text/x-python",
   "name": "python",
   "nbconvert_exporter": "python",
   "pygments_lexer": "ipython3",
   "version": "3.9.13"
  }
 },
 "nbformat": 4,
 "nbformat_minor": 5
}
