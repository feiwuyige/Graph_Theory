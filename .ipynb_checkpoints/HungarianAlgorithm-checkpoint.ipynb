{
 "cells": [
  {
   "cell_type": "markdown",
   "metadata": {},
   "source": [
    "### 匈牙利算法\n",
    "在二部图中寻找完美匹配，即设$G = (X, Y), |X| = |Y|$，在 $G$ 中寻找一完美匹配 $M$。\n",
    "#### 基本思想\n",
    "从任一初始匹配 $M_0$ 出发，寻找一条 $M_0$ 增广路 $P$， 令 $M_1 = M_0 ▲ E(P)$，从而得到更大的匹配\n",
    "#### 算法流程\n",
    "设 $M$ 是初始匹配，$H$ 是扎根于 $M$非饱和点$u$的交错树，令 $S = V(H) \\cap X, T = V(H) \\cap Y$. \n",
    "1. 若 $M$ 饱和 $X$ 所有顶点，停止，否则，设 $u$ 为 $X$ 中 $M$ 非饱和顶点，置$S = \\{u\\}, T = \\emptyset$;\n",
    "2. 若 $N(S)=T$, 则不存在完美匹配，否则，设 $y \\in N(S)-T;\n",
    "3. 若 $y$ 为 $M$ 饱和点，且 $yz \\in M$，置 $S = S \\cup \\{z\\}, T = T \\cap \\{y\\}$，转2，否则，设 $P$ 为 $M$ 可扩路，置 $M_1 = M ▲ E(P)$，转1."
   ]
  },
  {
   "cell_type": "code",
   "execution_count": null,
   "metadata": {},
   "outputs": [
    {
     "ename": "",
     "evalue": "",
     "output_type": "error",
     "traceback": [
      "\u001b[1;31mThe Kernel crashed while executing code in the current cell or a previous cell. \n",
      "\u001b[1;31mPlease review the code in the cell(s) to identify a possible cause of the failure. \n",
      "\u001b[1;31mClick <a href='https://aka.ms/vscodeJupyterKernelCrash'>here</a> for more info. \n",
      "\u001b[1;31mView Jupyter <a href='command:jupyter.viewOutput'>log</a> for further details."
     ]
    }
   ],
   "source": [
    "print(\"hello\")\n",
    "# 深度优先搜索尝试为节点u找到匹配\n",
    "def dfs(u, match_u, match_v, visited, graph):\n",
    "    for v in graph[u]:\n",
    "        if not visited[v]:\n",
    "            visited[v] = True\n",
    "        # 如果v没有匹配，则uv是一个匹配；若v有匹配，则尝试递归的给v的匹配match_v找到新的匹配\n",
    "        if match_v[v] == -1 or dfs(match_v[v], match_u, match_v, visited, graph):\n",
    "            match_v[v] = u\n",
    "            match_u[u] = v\n",
    "            return True\n",
    "    return False\n",
    "\n",
    "\n",
    "# 匈牙利算法来求二部图完美匹配，U,V为两个顶点集\n",
    "def Hungarian(graph, U, V):\n",
    "    match_u = {u : -1 for u in U}\n",
    "    match_v = {v : -1 for v in V}\n",
    "    for u in U:\n",
    "        visited = {v : False for v in V}\n",
    "        dfs(u, match_u, match_v, visited, graph)\n",
    "\n",
    "    # 提取匹配结果\n",
    "    matches = [(u, match_u[u]) for u in U if match_u[u] != -1]\n",
    "    return matches\n",
    "    \n",
    "# 主函数\n",
    "if __name__ == \"__main__\":\n",
    "    graph = {\n",
    "       'x1': ['y1', 'y2', 'y4'],\n",
    "       'x2': ['y2', 'y3'],\n",
    "       'x3': ['y2', 'y3'],\n",
    "       'x4': ['y2', 'y3'],\n",
    "       'x5': ['y4', 'y5']\n",
    "    }\n",
    "    X = ['x1', 'x2', 'x3', 'x4', 'x5']\n",
    "    Y = ['y1', 'y2', 'y3', 'y4', 'y5']\n",
    "    matching = Hungarian(graph, X, Y)\n",
    "    print(\"最大匹配数为：\", len(matching))\n",
    "    print(\"匹配结果为：\", matching)"
   ]
  },
  {
   "cell_type": "code",
   "execution_count": 2,
   "metadata": {},
   "outputs": [
    {
     "name": "stdout",
     "output_type": "stream",
     "text": [
      "最大匹配数为： 4\n",
      "匹配结果为： [('x1', 'y1'), ('x2', 'y3'), ('x3', 'y2'), ('x5', 'y4')]\n"
     ]
    }
   ],
   "source": [
    "def dfs(u, match_u, match_v, visited, graph):\n",
    "    \"\"\"深度优先搜索（DFS）来尝试为节点u找到匹配\"\"\"\n",
    "    for v in graph[u]:\n",
    "        if not visited[v]:\n",
    "            visited[v] = True\n",
    "            # 如果v没有匹配，或者递归地为v的匹配找到新的匹配\n",
    "            if match_v[v] == -1 or dfs(match_v[v], match_u, match_v, visited, graph):\n",
    "                match_u[u] = v\n",
    "                match_v[v] = u\n",
    "                return True\n",
    "    return False\n",
    "\n",
    "def hungarian_algorithm(graph, U, V):\n",
    "    \"\"\"\n",
    "    匈牙利算法来解决二分图最大匹配问题\n",
    "    graph: 二分图的邻接表表示\n",
    "    U: 顶点集U\n",
    "    V: 顶点集V\n",
    "    \"\"\"\n",
    "    match_u = {u: -1 for u in U}\n",
    "    match_v = {v: -1 for v in V}\n",
    "\n",
    "    for u in U:\n",
    "        visited = {v: False for v in V}\n",
    "        dfs(u, match_u, match_v, visited, graph)\n",
    "    \n",
    "    # 提取匹配结果\n",
    "    matches = [(u, match_u[u]) for u in U if match_u[u] != -1]\n",
    "    return matches\n",
    "\n",
    "if __name__ == \"__main__\":\n",
    "    graph = {\n",
    "       'x1': ['y1', 'y2', 'y4'],\n",
    "       'x2': ['y2', 'y3'],\n",
    "       'x3': ['y2', 'y3'],\n",
    "       'x4': ['y2', 'y3'],\n",
    "       'x5': ['y4', 'y5']\n",
    "    }\n",
    "    X = ['x1', 'x2', 'x3', 'x4', 'x5']\n",
    "    Y = ['y1', 'y2', 'y3', 'y4', 'y5']\n",
    "    matching = hungarian_algorithm(graph, X, Y)\n",
    "    print(\"最大匹配数为：\", len(matching))\n",
    "    print(\"匹配结果为：\", matching)"
   ]
  },
  {
   "cell_type": "code",
   "execution_count": null,
   "metadata": {},
   "outputs": [],
   "source": []
  }
 ],
 "metadata": {
  "kernelspec": {
   "display_name": "Python 3 (ipykernel)",
   "language": "python",
   "name": "python3"
  },
  "language_info": {
   "codemirror_mode": {
    "name": "ipython",
    "version": 3
   },
   "file_extension": ".py",
   "mimetype": "text/x-python",
   "name": "python",
   "nbconvert_exporter": "python",
   "pygments_lexer": "ipython3",
   "version": "3.9.13"
  }
 },
 "nbformat": 4,
 "nbformat_minor": 2
}
