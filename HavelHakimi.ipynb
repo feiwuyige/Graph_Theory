{
 "cells": [
  {
   "cell_type": "code",
   "execution_count": 1,
   "id": "5f52c2bb",
   "metadata": {},
   "outputs": [],
   "source": [
    "# 判断一个度序列可否构成一个简单图\n",
    "\n",
    "import numpy as np\n",
    "import networkx as nx\n",
    "import matplotlib.pyplot as plt\n",
    "\n",
    "# 定义数据结构\n",
    "class Node:\n",
    "    def __init__(self, name, degree):\n",
    "        self.name = name\n",
    "        self.degree = degree"
   ]
  },
  {
   "cell_type": "code",
   "execution_count": 2,
   "id": "80d1445d",
   "metadata": {},
   "outputs": [],
   "source": [
    "def matrix2picture(adjacency_matrix):\n",
    "    # 创建无向图\n",
    "    G = nx.Graph()\n",
    "    \n",
    "    # 添加节点\n",
    "    num_nodes = adjacency_matrix.shape[0]\n",
    "    G.add_nodes_from(range(num_nodes))\n",
    "    \n",
    "    # 添加边\n",
    "    for i in range(num_nodes):\n",
    "        for j in range(i+1, num_nodes):\n",
    "            if adjacency_matrix[i][j] == 1:\n",
    "                G.add_edge(i, j)\n",
    "                \n",
    "    # 绘制图形\n",
    "    pos = nx.kamada_kawai_layout(G)  # 定义节点位置\n",
    "    nx.draw(G, pos, with_labels=True, node_color=\"skyblue\", node_size=1500, edge_color='black', linewidths=1, font_size=15)\n",
    "    plt.show()"
   ]
  },
  {
   "cell_type": "code",
   "execution_count": 3,
   "id": "2c0894bb",
   "metadata": {},
   "outputs": [],
   "source": [
    "def list2node(degree_list):\n",
    "    my_list = []\n",
    "    for i in range(len(degree_list)):\n",
    "        node = Node(i, degree_list[i])\n",
    "        my_list.append(node)\n",
    "    return my_list"
   ]
  },
  {
   "cell_type": "code",
   "execution_count": 4,
   "id": "3c7c83a0",
   "metadata": {},
   "outputs": [],
   "source": [
    "def sort_node(node_list):\n",
    "    sorted_node_list = sorted(node_list, key=lambda node: node.degree,reverse=True)\n",
    "    return sorted_node_list"
   ]
  },
  {
   "cell_type": "code",
   "execution_count": 9,
   "id": "8b4462df",
   "metadata": {},
   "outputs": [],
   "source": [
    "def havel_hakimi(degrees, adjacency_matrix):\n",
    "    while any(degrees):\n",
    "        degrees = sort_node(degrees)\n",
    "        # 排完序之后需要之后的每一个节点减去第一个度数，从而将节点数减少一，降低问题规模\n",
    "        for i in range(1, degrees[0].degree + 1):\n",
    "            degrees[i].degree -= 1\n",
    "            adjacency_matrix[degrees[0].name][degrees[i].name] = 1\n",
    "            adjacency_matrix[degrees[i].name][degrees[0].name] = 1\n",
    "        # 将第一个元素弹出\n",
    "        degrees.pop(0)\n",
    "        # 当删除完的序列中出现负整数的时候证明无法构成一个简单图\n",
    "        for i in range(len(degrees)):\n",
    "            if degrees[i].degree < 0:\n",
    "                return False\n",
    "    return True"
   ]
  },
  {
   "cell_type": "code",
   "execution_count": 11,
   "id": "6cb25432",
   "metadata": {},
   "outputs": [
    {
     "name": "stdout",
     "output_type": "stream",
     "text": [
      "[[0. 0. 0.]\n",
      " [0. 0. 0.]\n",
      " [0. 0. 0.]]\n",
      "[[0. 1. 1.]\n",
      " [1. 0. 0.]\n",
      " [1. 0. 0.]]\n"
     ]
    },
    {
     "data": {
      "image/png": "[encoded data removed]",
      "text/plain": [
       "<Figure size 640x480 with 1 Axes>"
      ]
     },
     "metadata": {},
     "output_type": "display_data"
    }
   ],
   "source": [
    "l = [2, 1, 1]\n",
    "my_list = list2node(l)\n",
    "adjacency_matrix = np.zeros((len(l), len(l)))\n",
    "print(adjacency_matrix)\n",
    "isgraph = havel_hakimi(my_list, adjacency_matrix)\n",
    "print(adjacency_matrix)\n",
    "if isgraph:\n",
    "    matrix2picture(adjacency_matrix)\n",
    "else:\n",
    "    print(\"Not a graph\")"
   ]
  },
  {
   "cell_type": "code",
   "execution_count": null,
   "id": "7c2671c1",
   "metadata": {},
   "outputs": [],
   "source": []
  },
  {
   "cell_type": "code",
   "execution_count": null,
   "id": "745f7df2",
   "metadata": {},
   "outputs": [],
   "source": []
  }
 ],
 "metadata": {
  "kernelspec": {
   "display_name": "Python 3 (ipykernel)",
   "language": "python",
   "name": "python3"
  },
  "language_info": {
   "codemirror_mode": {
    "name": "ipython",
    "version": 3
   },
   "file_extension": ".py",
   "mimetype": "text/x-python",
   "name": "python",
   "nbconvert_exporter": "python",
   "pygments_lexer": "ipython3",
   "version": "3.9.13"
  }
 },
 "nbformat": 4,
 "nbformat_minor": 5
}
