{
 "cells": [
  {
   "cell_type": "code",
   "execution_count": 1,
   "id": "8020e40a",
   "metadata": {},
   "outputs": [
    {
     "name": "stdout",
     "output_type": "stream",
     "text": [
      "Minimum cost of spanning tree: 16\n"
     ]
    }
   ],
   "source": [
    "# Kruskal算法\n",
    "# 使用邻接矩阵存放图\n",
    "class KruskalMST:\n",
    "    def __init__(self, num_vertices):\n",
    "        self.num_vertices = num_vertices\n",
    "        self.parent = [i for i in range(num_vertices)]\n",
    "        self.rank = [0] * num_vertices\n",
    "\n",
    "    def find(self, u):\n",
    "        if self.parent[u] != u:\n",
    "            self.parent[u] = self.find(self.parent[u])  # Path compression\n",
    "        return self.parent[u]\n",
    "\n",
    "    def union(self, u, v):\n",
    "        root_u = self.find(u)\n",
    "        root_v = self.find(v)\n",
    "\n",
    "        if root_u != root_v:\n",
    "            if self.rank[root_u] > self.rank[root_v]:\n",
    "                self.parent[root_v] = root_u\n",
    "            elif self.rank[root_u] < self.rank[root_v]:\n",
    "                self.parent[root_u] = root_v\n",
    "            else:\n",
    "                self.parent[root_v] = root_u\n",
    "                self.rank[root_u] += 1\n",
    "\n",
    "    def kruskal(self, graph):\n",
    "        min_cost = 0\n",
    "        edges = []\n",
    "\n",
    "        # Extract all edges from the adjacency matrix\n",
    "        for i in range(self.num_vertices):\n",
    "            for j in range(i + 1, self.num_vertices):\n",
    "                if graph[i][j] != 0:\n",
    "                    edges.append((graph[i][j], i, j))\n",
    "\n",
    "        # Sort edges based on weight\n",
    "        edges.sort()\n",
    "\n",
    "        # Kruskal's algorithm to find MST\n",
    "        for edge in edges:\n",
    "            weight, u, v = edge\n",
    "            if self.find(u) != self.find(v):\n",
    "                self.union(u, v)\n",
    "                min_cost += weight\n",
    "\n",
    "        return min_cost\n",
    "\n",
    "\n",
    "# Example usage:\n",
    "if __name__ == \"__main__\":\n",
    "    # Example graph represented as an adjacency matrix\n",
    "    graph = [\n",
    "        [0, 2, 0, 6, 0],\n",
    "        [2, 0, 3, 8, 5],\n",
    "        [0, 3, 0, 0, 7],\n",
    "        [6, 8, 0, 0, 9],\n",
    "        [0, 5, 7, 9, 0]\n",
    "    ]\n",
    "\n",
    "    num_vertices = len(graph)\n",
    "    kruskal_mst = KruskalMST(num_vertices)\n",
    "    min_cost = kruskal_mst.kruskal(graph)\n",
    "\n",
    "    print(\"Minimum cost of spanning tree:\", min_cost)\n",
    "\n",
    "\n"
   ]
  },
  {
   "cell_type": "code",
   "execution_count": null,
   "id": "f4c0c7e7",
   "metadata": {},
   "outputs": [],
   "source": []
  }
 ],
 "metadata": {
  "kernelspec": {
   "display_name": "Python 3 (ipykernel)",
   "language": "python",
   "name": "python3"
  },
  "language_info": {
   "codemirror_mode": {
    "name": "ipython",
    "version": 3
   },
   "file_extension": ".py",
   "mimetype": "text/x-python",
   "name": "python",
   "nbconvert_exporter": "python",
   "pygments_lexer": "ipython3",
   "version": "3.9.13"
  }
 },
 "nbformat": 4,
 "nbformat_minor": 5
}
